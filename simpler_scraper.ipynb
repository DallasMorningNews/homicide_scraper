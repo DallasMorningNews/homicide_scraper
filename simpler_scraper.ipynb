{
 "cells": [
  {
   "cell_type": "code",
   "execution_count": 43,
   "metadata": {},
   "outputs": [],
   "source": [
    "import pandas as pd\n",
    "import geopandas as gpd\n",
    "\n",
    "pd.set_option('display.max_rows', 500)\n",
    "pd.set_option('display.max_columns', 500)\n",
    "\n",
    "import ast\n",
    "\n",
    "\n",
    "import json\n",
    "\n",
    "import numpy as np\n",
    "\n",
    "from datetime import timedelta, date\n",
    "\n",
    "\n",
    "import re\n",
    "\n",
    "#%pip install lxml\n",
    "#%pip install requests\n",
    "#%pip install sodapy\n",
    "\n",
    "from lxml import html\n",
    "import requests\n",
    "\n",
    "import os\n",
    "\n",
    "import glob\n",
    "\n",
    "from sodapy import Socrata"
   ]
  },
  {
   "cell_type": "markdown",
   "metadata": {},
   "source": [
    "### Get limit"
   ]
  },
  {
   "cell_type": "code",
   "execution_count": 44,
   "metadata": {},
   "outputs": [],
   "source": [
    "\n",
    "#def request ():\n",
    "#    page = requests.get('https://www.dallasopendata.com/Public-Safety/Police-Incidents/qv6i-rri7')\n",
    "#    content = html.fromstring(page.content)\n",
    "\n",
    "#    return content\n",
    "#def parse():\n",
    "#    content = request()\n",
    "\n",
    "#    containers = content.xpath('/html/body/div[1]/div/div/header/div/div[3]')\n",
    "\n",
    "#    for container in containers:\n",
    "#        title = container.xpath('/html/body/main/div/div[1]/div/div[2]/forge-view-switcher/forge-view[1]/div/div/div/div[1]/section[1]/div/div/dl/div[1]/dd')\n",
    "\n",
    "\n",
    "#        print(title)\n",
    "#parse()\n"
   ]
  },
  {
   "cell_type": "markdown",
   "metadata": {},
   "source": [
    "### Read in data"
   ]
  },
  {
   "cell_type": "code",
   "execution_count": 45,
   "metadata": {},
   "outputs": [
    {
     "name": "stderr",
     "output_type": "stream",
     "text": [
      "WARNING:root:Requests made without an app_token will be subject to strict throttling limits.\n"
     ]
    },
    {
     "name": "stdout",
     "output_type": "stream",
     "text": [
      "1158925\n"
     ]
    }
   ],
   "source": [
    "#Define Socrata API Client\n",
    "client = Socrata(\"www.dallasopendata.com\", None)\n",
    "\n",
    "#NOTE: Change to the limit we defined earlier\n",
    "lim = 1200000\n",
    "\n",
    "#Read in data and convert to DataFrame\n",
    "results = client.get(\"qv6i-rri7\", limit=lim)\n",
    "\n",
    "df = pd.DataFrame.from_records(results)\n",
    "\n",
    "    # lim += 100000\n",
    "\n",
    "print(len(df))\n",
    "\n",
    "#Create empty lists of addresses, latitudes and longitudes to convert to columns later.\n",
    "lats = []\n",
    "longs = []\n",
    "adds = []\n",
    "\n",
    "#In the underlying raw date we have a column called 'Location1' where each cell contains a street address, latitude and Longitude. Lets extract those and add them to the list.\n",
    "for i in range(0, len(df)):\n",
    "    #If the cell isn't empty\n",
    "    try:\n",
    "        latitude = df['geocoded_column'][i]['latitude']\n",
    "    except:\n",
    "            latitude = np.nan\n",
    "    try:\n",
    "        longitude = df['geocoded_column'][i]['longitude']\n",
    "    except:\n",
    "        longitude = np.nan\n",
    "    try:\n",
    "        address = ''\n",
    "        for val in ast.literal_eval(df['geocoded_column'][i]['human_address']).values():\n",
    "             address = address + ' ' + val.strip()\n",
    "    except:\n",
    "         address = ''\n",
    "        \n",
    "    #Add the lat, long and address to the corresponding list.\n",
    "    lats.append(latitude)\n",
    "    longs.append(longitude)\n",
    "    adds.append(address)\n",
    "\n",
    "# #Create new columns from the populated lists.\n",
    "df['latitude'] = lats\n",
    "df['longitude'] = longs\n",
    "df['address'] = adds \n",
    "\n",
    "df['date1'] = pd.to_datetime(df['date1'], errors='coerce')"
   ]
  },
  {
   "cell_type": "code",
   "execution_count": 46,
   "metadata": {},
   "outputs": [],
   "source": [
    "df['date1'] = pd.to_datetime(df['date1'], errors='coerce')\n",
    "\n",
    "df = (df\n",
    "      .loc[((df['nibrs_code'] == '09A') | \n",
    "            (df['ucrcode'].isin([110, 120])))]\n",
    "        .sort_values('date1', ascending=False)\n",
    "        .drop_duplicates(subset = ['incidentnum'], keep='first')\n",
    "        .reset_index(drop=True)\n",
    "        .copy())"
   ]
  },
  {
   "cell_type": "code",
   "execution_count": 49,
   "metadata": {},
   "outputs": [],
   "source": [
    "df.to_csv('murders_data.csv', index=False)"
   ]
  },
  {
   "cell_type": "code",
   "execution_count": null,
   "metadata": {},
   "outputs": [],
   "source": []
  }
 ],
 "metadata": {
  "kernelspec": {
   "display_name": "Python 3",
   "language": "python",
   "name": "python3"
  },
  "language_info": {
   "codemirror_mode": {
    "name": "ipython",
    "version": 3
   },
   "file_extension": ".py",
   "mimetype": "text/x-python",
   "name": "python",
   "nbconvert_exporter": "python",
   "pygments_lexer": "ipython3",
   "version": "3.9.6"
  }
 },
 "nbformat": 4,
 "nbformat_minor": 2
}
