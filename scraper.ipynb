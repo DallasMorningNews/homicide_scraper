{
 "cells": [
  {
   "cell_type": "code",
   "execution_count": 3,
   "metadata": {},
   "outputs": [],
   "source": [
    "import pandas as pd\n",
    "import requests\n",
    "import json"
   ]
  },
  {
   "cell_type": "code",
   "execution_count": 1,
   "metadata": {},
   "outputs": [
    {
     "name": "stdout",
     "output_type": "stream",
     "text": [
      "did not hit limit\n",
      "1164272\n",
      "1164272"
     ]
    },
    {
     "name": "stderr",
     "output_type": "stream",
     "text": [
      "C:\\Users\\JOSLUI~1\\AppData\\Local\\Temp/ipykernel_14148/3101621518.py:43: DtypeWarning: Columns (3,86) have mixed types. Specify dtype option on import or set low_memory=False.\n",
      "  d2 = pd.read_csv('dallasopendata.csv')\n"
     ]
    },
    {
     "name": "stdout",
     "output_type": "stream",
     "text": [
      "\n",
      "1164272\n"
     ]
    }
   ],
   "source": [
    "import pandas as pd\n",
    "import requests\n",
    "import json\n",
    "\n",
    "# url = 'https://www.dallasopendata.com/resource/qv6i-rri7.json?$limit=1200000'\n",
    "limit = 1200000\n",
    "url = 'https://www.dallasopendata.com/resource/qv6i-rri7.json?$limit='+str(limit)\n",
    "\n",
    "\n",
    "json_data = []\n",
    "\n",
    "def grab_data(url):\n",
    "    paginate = False\n",
    "\n",
    "    r = requests.get(url)\n",
    "    # json_data.append(r.json())\n",
    "    data = r.json()\n",
    "    for entry in data: json_data.append(entry)\n",
    "    offset = limit\n",
    "    new_url = url+'&$offset='+str(limit)\n",
    "    \n",
    "    if len(data) == limit: \n",
    "        print('this is lendata', len(data))\n",
    "        print('this is limit', limit)\n",
    "        print('set paginate ot true')\n",
    "        paginate = True\n",
    "    else:\n",
    "        print('did not hit limit')\n",
    "        print(len(data))\n",
    "    \n",
    "    if paginate == True: \n",
    "        grab_data(new_url)\n",
    "        offset = offset+limit\n",
    "        print('limit hit, new offset', offset)\n",
    "        \n",
    "    \n",
    "grab_data(url)\n",
    "print(len(json_data))\n",
    "df = pd.DataFrame(json_data)\n",
    "\n",
    "df.to_csv('dallasopendata.csv', index=False)\n",
    "\n",
    "d2 = pd.read_csv('dallasopendata.csv')\n",
    "\n",
    "print(d2.shape[0])"
   ]
  },
  {
   "cell_type": "code",
   "execution_count": 4,
   "metadata": {},
   "outputs": [
    {
     "name": "stderr",
     "output_type": "stream",
     "text": [
      "C:\\Users\\JOSLUI~1\\AppData\\Local\\Temp/ipykernel_9740/624047156.py:1: DtypeWarning: Columns (3,86) have mixed types. Specify dtype option on import or set low_memory=False.\n",
      "  d2 = pd.read_csv('dallasopendata.csv')\n"
     ]
    }
   ],
   "source": [
    "d2 = pd.read_csv('dallasopendata.csv')"
   ]
  },
  {
   "cell_type": "code",
   "execution_count": 7,
   "metadata": {},
   "outputs": [],
   "source": [
    "d2['date1'] = pd.to_datetime(d2['date1'], errors='coerce')\n",
    "\n",
    "d2 = (d2\n",
    "      .loc[((d2['nibrs_code'] == '09A') | \n",
    "            (d2['ucrcode'].isin([110, 120])))]\n",
    "        .sort_values('date1', ascending=False)\n",
    "        .drop_duplicates(subset = ['incidentnum'], keep='first')\n",
    "        .reset_index(drop=True)\n",
    "        .copy())"
   ]
  },
  {
   "cell_type": "code",
   "execution_count": 9,
   "metadata": {},
   "outputs": [],
   "source": [
    "d2.to_csv('data/created/scraped_dpd_murders_data.csv', index=False)"
   ]
  },
  {
   "cell_type": "code",
   "execution_count": null,
   "metadata": {},
   "outputs": [],
   "source": []
  }
 ],
 "metadata": {
  "kernelspec": {
   "display_name": "Python 3",
   "language": "python",
   "name": "python3"
  },
  "language_info": {
   "codemirror_mode": {
    "name": "ipython",
    "version": 3
   },
   "file_extension": ".py",
   "mimetype": "text/x-python",
   "name": "python",
   "nbconvert_exporter": "python",
   "pygments_lexer": "ipython3",
   "version": "3.9.6"
  }
 },
 "nbformat": 4,
 "nbformat_minor": 2
}
